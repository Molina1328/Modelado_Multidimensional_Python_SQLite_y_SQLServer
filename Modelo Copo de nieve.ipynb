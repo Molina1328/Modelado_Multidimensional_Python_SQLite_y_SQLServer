{
 "cells": [
  {
   "cell_type": "code",
   "execution_count": 50,
   "id": "3acb9b4d",
   "metadata": {},
   "outputs": [],
   "source": [
    "import sqlalchemy\n",
    "import pymysql\n",
    "from sqlalchemy import create_engine\n",
    "import pandas as pd\n",
    "import pyodbc"
   ]
  },
  {
   "cell_type": "code",
   "execution_count": 51,
   "id": "2450b571",
   "metadata": {},
   "outputs": [
    {
     "data": {
      "text/plain": [
       "Engine(sqlite:///Northwind_larges.sqlite)"
      ]
     },
     "execution_count": 51,
     "metadata": {},
     "output_type": "execute_result"
    }
   ],
   "source": [
    "northwind = create_engine('sqlite:///Northwind_larges.sqlite')\n",
    "northwind"
   ]
  },
  {
   "cell_type": "code",
   "execution_count": 52,
   "id": "78cd1b63",
   "metadata": {},
   "outputs": [],
   "source": [
    "chinook = create_engine('sqlite:///chinook.db')\n"
   ]
  },
  {
   "cell_type": "code",
   "execution_count": 53,
   "id": "5e314f3b",
   "metadata": {},
   "outputs": [],
   "source": [
    "frameShips = pd.read_sql_query(\"\"\"select ShipVia, ShipName, ShipAddress as ShipAdress, ShipCity, ShipRegion,\n",
    "ShipPostalCode, ShipCountry from Orders;\"\"\", \n",
    "    con=northwind.connect())"
   ]
  },
  {
   "cell_type": "code",
   "execution_count": 54,
   "id": "2d97502e",
   "metadata": {},
   "outputs": [],
   "source": [
    "frameCustomer = pd.read_sql_query(\"\"\"select Id as Customer_ID, CompanyName, ContactName, Region, City, Country from Customer;\"\"\", \n",
    "    con=northwind.connect())"
   ]
  },
  {
   "cell_type": "code",
   "execution_count": 55,
   "id": "f62a176c",
   "metadata": {},
   "outputs": [],
   "source": [
    "frameProduct = pd.read_sql_query(\"\"\"select CategoryId, ProductName as Product_Name,  UnitPrice, QuantityPerUnit, UnitsInStock\n",
    "as UnitslnStock, Discontinued from Product ;\"\"\", \n",
    "    con=northwind.connect())"
   ]
  },
  {
   "cell_type": "code",
   "execution_count": 56,
   "id": "eeeb7212",
   "metadata": {},
   "outputs": [],
   "source": [
    "frameCategory = pd.read_sql_query(\"\"\"select CategoryName as Category_Name, Description from Category;\"\"\", \n",
    "    con=northwind.connect())"
   ]
  },
  {
   "cell_type": "code",
   "execution_count": 57,
   "id": "1a56bae4",
   "metadata": {},
   "outputs": [
    {
     "name": "stderr",
     "output_type": "stream",
     "text": [
      "C:\\Users\\zambr\\AppData\\Local\\Temp/ipykernel_14280/104617120.py:9: FutureWarning: Series.dt.weekofyear and Series.dt.week have been deprecated.  Please use Series.dt.isocalendar().week instead.\n",
      "  dataFrameDate['semana'] = dataFrameDate.fecha.dt.weekofyear\n"
     ]
    }
   ],
   "source": [
    "fecha_inicio='2009-01-01'\n",
    "fecha_fin='2030-12-31'\n",
    "dataFrameDate = pd.DataFrame({'fecha': pd.date_range(fecha_inicio, fecha_fin)})\n",
    "dataFrameDate['anio'] = dataFrameDate.fecha.dt.year\n",
    "dataFrameDate['mes'] = dataFrameDate.fecha.dt.month\n",
    "dataFrameDate['dia'] = dataFrameDate.fecha.dt.day\n",
    "dataFrameDate['nombredia'] = dataFrameDate.fecha.dt.day_name()\n",
    "dataFrameDate['diasemana'] = dataFrameDate.fecha.dt.dayofweek\n",
    "dataFrameDate['semana'] = dataFrameDate.fecha.dt.weekofyear\n",
    "dataFrameDate['trimestre'] = dataFrameDate.fecha.dt.quarter\n",
    "dataFrameDate = dataFrameDate[['fecha', 'anio', 'mes', 'dia', 'nombredia', 'diasemana', 'semana', 'trimestre']] \n"
   ]
  },
  {
   "cell_type": "code",
   "execution_count": 58,
   "id": "35f06a85",
   "metadata": {},
   "outputs": [],
   "source": [
    "FrameEmployee = pd.read_sql_query(\"\"\"select Employee.FirstName, Employee.LastName, Employee.Title, Employee.HireDate from Employee;\"\"\", con=northwind.connect())"
   ]
  },
  {
   "cell_type": "code",
   "execution_count": 88,
   "id": "2996309d",
   "metadata": {},
   "outputs": [],
   "source": [
    "frameTerritories = pd.read_sql_query(\"\"\"select Territory.Id as Territory_ID,Territory.TerritoryDescription, \n",
    "Employee.Id as Employee_ID, Region.Id as Region_ID from Territory inner JOIN EmployeeTerritory \n",
    "on Territory.Id = EmployeeTerritory.TerritoryId INNER JOIN Employee\n",
    "on EmployeeTerritory.EmployeeId = Employee.id INNER JOIN Region\n",
    "on Territory.RegionId = Region.Id;\"\"\", con=northwind.connect())"
   ]
  },
  {
   "cell_type": "code",
   "execution_count": 92,
   "id": "626d15bc",
   "metadata": {},
   "outputs": [],
   "source": [
    "FrameRegion = pd.read_sql_query(\"\"\"select Region.RegionDescription as RegionDescription from region \"\"\", con=northwind.connect())"
   ]
  },
  {
   "cell_type": "code",
   "execution_count": 9,
   "id": "f22ace07",
   "metadata": {},
   "outputs": [],
   "source": [
    "frameOrderSales = pd.read_sql_query(\"\"\"SELECT Customer.Id as Customer_ID, EmployeeId as Employee_ID, ProductId as Products_ID, \n",
    "dim_ships.Id as Ship_ID, Dim_Time.TimeId as Time_ID, Orders.OrderDate, Orders.RequiredDate, Orders.ShippedDate as ShipeDate, \n",
    "OrderDetail.UnitPrice, OrderDetail.Quantity,\n",
    "OrderDetail.Discount, (OrderDetail.UnitPrice * OrderDetail.Quantity) - OrderDetail.Discount as Total\n",
    "FROM Product INNER JOIN OrderDetail\n",
    "ON Product.Id = OrderDetail.ProductId INNER JOIN Orders\n",
    "on OrderDetail.OrderId = Orders.Id INNER JOIN Employee\n",
    "on Orders.EmployeeId = Employee.Id INNER JOIN Customer\n",
    "on Orders.CustomerId = Customer.Id INNER JOIN dim_ships\n",
    "on Orders.Id = dim_ships.Id INNER JOIN Dim_Time\n",
    "ON Orders.OrderDate = substr(dim_time.fecha,0,11)\"\"\", \n",
    "    con=northwind.connect())"
   ]
  },
  {
   "cell_type": "code",
   "execution_count": 78,
   "id": "09e24e24",
   "metadata": {},
   "outputs": [],
   "source": [
    "frameShips.fillna(method=\"bfill\", inplace = True) \n",
    "frameCustomer.fillna(method=\"bfill\", inplace = True) \n",
    "frameProduct.fillna(method=\"bfill\", inplace = True) \n",
    "frameCategory.fillna(method=\"bfill\", inplace = True) \n",
    "FrameEmployee.fillna(method=\"bfill\", inplace = True) \n",
    "frameTerritories.fillna(method=\"bfill\", inplace = True) \n",
    "FrameRegion.fillna(method=\"bfill\", inplace = True) \n",
    "frameOrderSales.fillna(method=\"bfill\", inplace = True) \n",
    "dataFrameDate.fillna(method=\"bfill\", inplace = True) "
   ]
  },
  {
   "cell_type": "code",
   "execution_count": 93,
   "id": "a16c8875",
   "metadata": {},
   "outputs": [],
   "source": [
    "engine = sqlalchemy.create_engine('mssql+pyodbc://localhost/EsquemaNieveVALE?driver=SQL+Server+Native+Client+11.0')\n",
    "try:     \n",
    "    frameShips.to_sql(name='Dim_Ship', con=engine, if_exists='append',index=False)\n",
    "    frameCustomer.to_sql('Dim_Customer', con=engine, if_exists='append',index=False)\n",
    "    frameCategory.to_sql('Dim_Category', con=engine, if_exists='append',index=False)\n",
    "    frameProduct.to_sql('Dim_Products', con=engine, if_exists='append',index=False)\n",
    "    FrameRegion.to_sql('Dim_Region', con=engine, if_exists='append',index=False)\n",
    "    frameTerritories.to_sql('Dim_Territories', con=engine, if_exists='append',index=False)\n",
    "    FrameEmployee.to_sql('Dim_Employee', con=engine, if_exists='append',index=False)\n",
    "    dataFrameDate.to_sql('Dim_Time', con=engine, if_exists='append',index=False)\n",
    "    frameOrderSales.to_sql('Sales_Order', con=engine, if_exists='append',index=False)\n",
    "except Exception as ex:\n",
    "                 print(\"Ocurrió un error: {}\".format(ex))"
   ]
  }
 ],
 "metadata": {
  "kernelspec": {
   "display_name": "Python 3 (ipykernel)",
   "language": "python",
   "name": "python3"
  },
  "language_info": {
   "codemirror_mode": {
    "name": "ipython",
    "version": 3
   },
   "file_extension": ".py",
   "mimetype": "text/x-python",
   "name": "python",
   "nbconvert_exporter": "python",
   "pygments_lexer": "ipython3",
   "version": "3.9.7"
  }
 },
 "nbformat": 4,
 "nbformat_minor": 5
}
